{
 "cells": [
  {
   "cell_type": "markdown",
   "id": "f010a2a6",
   "metadata": {},
   "source": [
    "# Xử LÝ Dữ liệu"
   ]
  },
  {
   "cell_type": "code",
   "execution_count": 1,
   "id": "1d2f414c",
   "metadata": {},
   "outputs": [],
   "source": [
    "import pandas as pd\n",
    "import numpy as np"
   ]
  },
  {
   "cell_type": "code",
   "execution_count": 2,
   "id": "317cc094",
   "metadata": {},
   "outputs": [],
   "source": [
    "# Đọc dữ liệu\n",
    "data = pd.read_csv('movie_metadata.csv')"
   ]
  },
  {
   "cell_type": "code",
   "execution_count": 3,
   "id": "48790fde",
   "metadata": {},
   "outputs": [
    {
     "data": {
      "text/plain": [
       "Index(['color', 'director_name', 'num_critic_for_reviews', 'duration',\n",
       "       'director_facebook_likes', 'actor_3_facebook_likes', 'actor_2_name',\n",
       "       'actor_1_facebook_likes', 'gross', 'genres', 'actor_1_name',\n",
       "       'movie_title', 'num_voted_users', 'cast_total_facebook_likes',\n",
       "       'actor_3_name', 'facenumber_in_poster', 'plot_keywords',\n",
       "       'movie_imdb_link', 'num_user_for_reviews', 'language', 'country',\n",
       "       'content_rating', 'budget', 'title_year', 'actor_2_facebook_likes',\n",
       "       'imdb_score', 'aspect_ratio', 'movie_facebook_likes'],\n",
       "      dtype='object')"
      ]
     },
     "execution_count": 3,
     "metadata": {},
     "output_type": "execute_result"
    }
   ],
   "source": [
    "#tất cả columns\n",
    "data.columns"
   ]
  },
  {
   "cell_type": "code",
   "execution_count": 5,
   "id": "fd6679e3",
   "metadata": {},
   "outputs": [],
   "source": [
    "#sẽ chỉ dựa trên những tính năng này\n",
    "data = data.loc[:,['director_name','actor_1_name','actor_2_name','actor_3_name','genres','movie_title']]"
   ]
  },
  {
   "cell_type": "code",
   "execution_count": 6,
   "id": "25fa67ea",
   "metadata": {},
   "outputs": [
    {
     "data": {
      "text/html": [
       "<div>\n",
       "<style scoped>\n",
       "    .dataframe tbody tr th:only-of-type {\n",
       "        vertical-align: middle;\n",
       "    }\n",
       "\n",
       "    .dataframe tbody tr th {\n",
       "        vertical-align: top;\n",
       "    }\n",
       "\n",
       "    .dataframe thead th {\n",
       "        text-align: right;\n",
       "    }\n",
       "</style>\n",
       "<table border=\"1\" class=\"dataframe\">\n",
       "  <thead>\n",
       "    <tr style=\"text-align: right;\">\n",
       "      <th></th>\n",
       "      <th>director_name</th>\n",
       "      <th>actor_1_name</th>\n",
       "      <th>actor_2_name</th>\n",
       "      <th>actor_3_name</th>\n",
       "      <th>genres</th>\n",
       "      <th>movie_title</th>\n",
       "    </tr>\n",
       "  </thead>\n",
       "  <tbody>\n",
       "    <tr>\n",
       "      <th>0</th>\n",
       "      <td>James Cameron</td>\n",
       "      <td>CCH Pounder</td>\n",
       "      <td>Joel David Moore</td>\n",
       "      <td>Wes Studi</td>\n",
       "      <td>Action|Adventure|Fantasy|Sci-Fi</td>\n",
       "      <td>Avatar</td>\n",
       "    </tr>\n",
       "    <tr>\n",
       "      <th>1</th>\n",
       "      <td>Gore Verbinski</td>\n",
       "      <td>Johnny Depp</td>\n",
       "      <td>Orlando Bloom</td>\n",
       "      <td>Jack Davenport</td>\n",
       "      <td>Action|Adventure|Fantasy</td>\n",
       "      <td>Pirates of the Caribbean: At World's End</td>\n",
       "    </tr>\n",
       "    <tr>\n",
       "      <th>2</th>\n",
       "      <td>Sam Mendes</td>\n",
       "      <td>Christoph Waltz</td>\n",
       "      <td>Rory Kinnear</td>\n",
       "      <td>Stephanie Sigman</td>\n",
       "      <td>Action|Adventure|Thriller</td>\n",
       "      <td>Spectre</td>\n",
       "    </tr>\n",
       "    <tr>\n",
       "      <th>3</th>\n",
       "      <td>Christopher Nolan</td>\n",
       "      <td>Tom Hardy</td>\n",
       "      <td>Christian Bale</td>\n",
       "      <td>Joseph Gordon-Levitt</td>\n",
       "      <td>Action|Thriller</td>\n",
       "      <td>The Dark Knight Rises</td>\n",
       "    </tr>\n",
       "    <tr>\n",
       "      <th>4</th>\n",
       "      <td>Doug Walker</td>\n",
       "      <td>Doug Walker</td>\n",
       "      <td>Rob Walker</td>\n",
       "      <td>NaN</td>\n",
       "      <td>Documentary</td>\n",
       "      <td>Star Wars: Episode VII - The Force Awakens    ...</td>\n",
       "    </tr>\n",
       "    <tr>\n",
       "      <th>5</th>\n",
       "      <td>Andrew Stanton</td>\n",
       "      <td>Daryl Sabara</td>\n",
       "      <td>Samantha Morton</td>\n",
       "      <td>Polly Walker</td>\n",
       "      <td>Action|Adventure|Sci-Fi</td>\n",
       "      <td>John Carter</td>\n",
       "    </tr>\n",
       "    <tr>\n",
       "      <th>6</th>\n",
       "      <td>Sam Raimi</td>\n",
       "      <td>J.K. Simmons</td>\n",
       "      <td>James Franco</td>\n",
       "      <td>Kirsten Dunst</td>\n",
       "      <td>Action|Adventure|Romance</td>\n",
       "      <td>Spider-Man 3</td>\n",
       "    </tr>\n",
       "    <tr>\n",
       "      <th>7</th>\n",
       "      <td>Nathan Greno</td>\n",
       "      <td>Brad Garrett</td>\n",
       "      <td>Donna Murphy</td>\n",
       "      <td>M.C. Gainey</td>\n",
       "      <td>Adventure|Animation|Comedy|Family|Fantasy|Musi...</td>\n",
       "      <td>Tangled</td>\n",
       "    </tr>\n",
       "    <tr>\n",
       "      <th>8</th>\n",
       "      <td>Joss Whedon</td>\n",
       "      <td>Chris Hemsworth</td>\n",
       "      <td>Robert Downey Jr.</td>\n",
       "      <td>Scarlett Johansson</td>\n",
       "      <td>Action|Adventure|Sci-Fi</td>\n",
       "      <td>Avengers: Age of Ultron</td>\n",
       "    </tr>\n",
       "    <tr>\n",
       "      <th>9</th>\n",
       "      <td>David Yates</td>\n",
       "      <td>Alan Rickman</td>\n",
       "      <td>Daniel Radcliffe</td>\n",
       "      <td>Rupert Grint</td>\n",
       "      <td>Adventure|Family|Fantasy|Mystery</td>\n",
       "      <td>Harry Potter and the Half-Blood Prince</td>\n",
       "    </tr>\n",
       "  </tbody>\n",
       "</table>\n",
       "</div>"
      ],
      "text/plain": [
       "       director_name     actor_1_name       actor_2_name  \\\n",
       "0      James Cameron      CCH Pounder   Joel David Moore   \n",
       "1     Gore Verbinski      Johnny Depp      Orlando Bloom   \n",
       "2         Sam Mendes  Christoph Waltz       Rory Kinnear   \n",
       "3  Christopher Nolan        Tom Hardy     Christian Bale   \n",
       "4        Doug Walker      Doug Walker         Rob Walker   \n",
       "5     Andrew Stanton     Daryl Sabara    Samantha Morton   \n",
       "6          Sam Raimi     J.K. Simmons       James Franco   \n",
       "7       Nathan Greno     Brad Garrett       Donna Murphy   \n",
       "8        Joss Whedon  Chris Hemsworth  Robert Downey Jr.   \n",
       "9        David Yates     Alan Rickman   Daniel Radcliffe   \n",
       "\n",
       "           actor_3_name                                             genres  \\\n",
       "0             Wes Studi                    Action|Adventure|Fantasy|Sci-Fi   \n",
       "1        Jack Davenport                           Action|Adventure|Fantasy   \n",
       "2      Stephanie Sigman                          Action|Adventure|Thriller   \n",
       "3  Joseph Gordon-Levitt                                    Action|Thriller   \n",
       "4                   NaN                                        Documentary   \n",
       "5          Polly Walker                            Action|Adventure|Sci-Fi   \n",
       "6         Kirsten Dunst                           Action|Adventure|Romance   \n",
       "7           M.C. Gainey  Adventure|Animation|Comedy|Family|Fantasy|Musi...   \n",
       "8    Scarlett Johansson                            Action|Adventure|Sci-Fi   \n",
       "9          Rupert Grint                   Adventure|Family|Fantasy|Mystery   \n",
       "\n",
       "                                         movie_title  \n",
       "0                                            Avatar   \n",
       "1          Pirates of the Caribbean: At World's End   \n",
       "2                                           Spectre   \n",
       "3                             The Dark Knight Rises   \n",
       "4  Star Wars: Episode VII - The Force Awakens    ...  \n",
       "5                                       John Carter   \n",
       "6                                      Spider-Man 3   \n",
       "7                                           Tangled   \n",
       "8                           Avengers: Age of Ultron   \n",
       "9            Harry Potter and the Half-Blood Prince   "
      ]
     },
     "execution_count": 6,
     "metadata": {},
     "output_type": "execute_result"
    }
   ],
   "source": [
    "data.head(10)"
   ]
  },
  {
   "cell_type": "code",
   "execution_count": 7,
   "id": "368fe772",
   "metadata": {},
   "outputs": [],
   "source": [
    "# thay thế các giá trị NaN bằng chuỗi \"unknown\" trong các cột của DataFrame 'data'.\n",
    "data['actor_1_name'] = data['actor_1_name'].replace(np.nan, 'unknown')\n",
    "data['actor_2_name'] = data['actor_2_name'].replace(np.nan, 'unknown')\n",
    "data['actor_3_name'] = data['actor_3_name'].replace(np.nan, 'unknown')\n",
    "data['director_name'] = data['director_name'].replace(np.nan, 'unknown')"
   ]
  },
  {
   "cell_type": "code",
   "execution_count": 8,
   "id": "fcbdc9a0",
   "metadata": {},
   "outputs": [
    {
     "data": {
      "text/html": [
       "<div>\n",
       "<style scoped>\n",
       "    .dataframe tbody tr th:only-of-type {\n",
       "        vertical-align: middle;\n",
       "    }\n",
       "\n",
       "    .dataframe tbody tr th {\n",
       "        vertical-align: top;\n",
       "    }\n",
       "\n",
       "    .dataframe thead th {\n",
       "        text-align: right;\n",
       "    }\n",
       "</style>\n",
       "<table border=\"1\" class=\"dataframe\">\n",
       "  <thead>\n",
       "    <tr style=\"text-align: right;\">\n",
       "      <th></th>\n",
       "      <th>director_name</th>\n",
       "      <th>actor_1_name</th>\n",
       "      <th>actor_2_name</th>\n",
       "      <th>actor_3_name</th>\n",
       "      <th>genres</th>\n",
       "      <th>movie_title</th>\n",
       "    </tr>\n",
       "  </thead>\n",
       "  <tbody>\n",
       "    <tr>\n",
       "      <th>0</th>\n",
       "      <td>James Cameron</td>\n",
       "      <td>CCH Pounder</td>\n",
       "      <td>Joel David Moore</td>\n",
       "      <td>Wes Studi</td>\n",
       "      <td>Action|Adventure|Fantasy|Sci-Fi</td>\n",
       "      <td>Avatar</td>\n",
       "    </tr>\n",
       "    <tr>\n",
       "      <th>1</th>\n",
       "      <td>Gore Verbinski</td>\n",
       "      <td>Johnny Depp</td>\n",
       "      <td>Orlando Bloom</td>\n",
       "      <td>Jack Davenport</td>\n",
       "      <td>Action|Adventure|Fantasy</td>\n",
       "      <td>Pirates of the Caribbean: At World's End</td>\n",
       "    </tr>\n",
       "    <tr>\n",
       "      <th>2</th>\n",
       "      <td>Sam Mendes</td>\n",
       "      <td>Christoph Waltz</td>\n",
       "      <td>Rory Kinnear</td>\n",
       "      <td>Stephanie Sigman</td>\n",
       "      <td>Action|Adventure|Thriller</td>\n",
       "      <td>Spectre</td>\n",
       "    </tr>\n",
       "    <tr>\n",
       "      <th>3</th>\n",
       "      <td>Christopher Nolan</td>\n",
       "      <td>Tom Hardy</td>\n",
       "      <td>Christian Bale</td>\n",
       "      <td>Joseph Gordon-Levitt</td>\n",
       "      <td>Action|Thriller</td>\n",
       "      <td>The Dark Knight Rises</td>\n",
       "    </tr>\n",
       "    <tr>\n",
       "      <th>4</th>\n",
       "      <td>Doug Walker</td>\n",
       "      <td>Doug Walker</td>\n",
       "      <td>Rob Walker</td>\n",
       "      <td>unknown</td>\n",
       "      <td>Documentary</td>\n",
       "      <td>Star Wars: Episode VII - The Force Awakens    ...</td>\n",
       "    </tr>\n",
       "    <tr>\n",
       "      <th>...</th>\n",
       "      <td>...</td>\n",
       "      <td>...</td>\n",
       "      <td>...</td>\n",
       "      <td>...</td>\n",
       "      <td>...</td>\n",
       "      <td>...</td>\n",
       "    </tr>\n",
       "    <tr>\n",
       "      <th>5038</th>\n",
       "      <td>Scott Smith</td>\n",
       "      <td>Eric Mabius</td>\n",
       "      <td>Daphne Zuniga</td>\n",
       "      <td>Crystal Lowe</td>\n",
       "      <td>Comedy|Drama</td>\n",
       "      <td>Signed Sealed Delivered</td>\n",
       "    </tr>\n",
       "    <tr>\n",
       "      <th>5039</th>\n",
       "      <td>unknown</td>\n",
       "      <td>Natalie Zea</td>\n",
       "      <td>Valorie Curry</td>\n",
       "      <td>Sam Underwood</td>\n",
       "      <td>Crime|Drama|Mystery|Thriller</td>\n",
       "      <td>The Following</td>\n",
       "    </tr>\n",
       "    <tr>\n",
       "      <th>5040</th>\n",
       "      <td>Benjamin Roberds</td>\n",
       "      <td>Eva Boehnke</td>\n",
       "      <td>Maxwell Moody</td>\n",
       "      <td>David Chandler</td>\n",
       "      <td>Drama|Horror|Thriller</td>\n",
       "      <td>A Plague So Pleasant</td>\n",
       "    </tr>\n",
       "    <tr>\n",
       "      <th>5041</th>\n",
       "      <td>Daniel Hsia</td>\n",
       "      <td>Alan Ruck</td>\n",
       "      <td>Daniel Henney</td>\n",
       "      <td>Eliza Coupe</td>\n",
       "      <td>Comedy|Drama|Romance</td>\n",
       "      <td>Shanghai Calling</td>\n",
       "    </tr>\n",
       "    <tr>\n",
       "      <th>5042</th>\n",
       "      <td>Jon Gunn</td>\n",
       "      <td>John August</td>\n",
       "      <td>Brian Herzlinger</td>\n",
       "      <td>Jon Gunn</td>\n",
       "      <td>Documentary</td>\n",
       "      <td>My Date with Drew</td>\n",
       "    </tr>\n",
       "  </tbody>\n",
       "</table>\n",
       "<p>5043 rows × 6 columns</p>\n",
       "</div>"
      ],
      "text/plain": [
       "          director_name     actor_1_name      actor_2_name  \\\n",
       "0         James Cameron      CCH Pounder  Joel David Moore   \n",
       "1        Gore Verbinski      Johnny Depp     Orlando Bloom   \n",
       "2            Sam Mendes  Christoph Waltz      Rory Kinnear   \n",
       "3     Christopher Nolan        Tom Hardy    Christian Bale   \n",
       "4           Doug Walker      Doug Walker        Rob Walker   \n",
       "...                 ...              ...               ...   \n",
       "5038        Scott Smith      Eric Mabius     Daphne Zuniga   \n",
       "5039            unknown      Natalie Zea     Valorie Curry   \n",
       "5040   Benjamin Roberds      Eva Boehnke     Maxwell Moody   \n",
       "5041        Daniel Hsia        Alan Ruck     Daniel Henney   \n",
       "5042           Jon Gunn      John August  Brian Herzlinger   \n",
       "\n",
       "              actor_3_name                           genres  \\\n",
       "0                Wes Studi  Action|Adventure|Fantasy|Sci-Fi   \n",
       "1           Jack Davenport         Action|Adventure|Fantasy   \n",
       "2         Stephanie Sigman        Action|Adventure|Thriller   \n",
       "3     Joseph Gordon-Levitt                  Action|Thriller   \n",
       "4                  unknown                      Documentary   \n",
       "...                    ...                              ...   \n",
       "5038          Crystal Lowe                     Comedy|Drama   \n",
       "5039         Sam Underwood     Crime|Drama|Mystery|Thriller   \n",
       "5040        David Chandler            Drama|Horror|Thriller   \n",
       "5041           Eliza Coupe             Comedy|Drama|Romance   \n",
       "5042              Jon Gunn                      Documentary   \n",
       "\n",
       "                                            movie_title  \n",
       "0                                               Avatar   \n",
       "1             Pirates of the Caribbean: At World's End   \n",
       "2                                              Spectre   \n",
       "3                                The Dark Knight Rises   \n",
       "4     Star Wars: Episode VII - The Force Awakens    ...  \n",
       "...                                                 ...  \n",
       "5038                           Signed Sealed Delivered   \n",
       "5039                         The Following               \n",
       "5040                              A Plague So Pleasant   \n",
       "5041                                  Shanghai Calling   \n",
       "5042                                 My Date with Drew   \n",
       "\n",
       "[5043 rows x 6 columns]"
      ]
     },
     "execution_count": 8,
     "metadata": {},
     "output_type": "execute_result"
    }
   ],
   "source": [
    "data"
   ]
  },
  {
   "cell_type": "code",
   "execution_count": 9,
   "id": "7247ef7f",
   "metadata": {},
   "outputs": [],
   "source": [
    "#thay thế ký tự \"|\" trong cột \"genres\" của DataFrame \"data\" bằng khoảng trắng (\" \")\n",
    "data['genres'] = data['genres'].str.replace('|', ' ')"
   ]
  },
  {
   "cell_type": "code",
   "execution_count": 10,
   "id": "8f001b20",
   "metadata": {},
   "outputs": [],
   "source": [
    "#chuyển đổi tất cả các ký tự trong cột \"movie_title\" của DataFrame \"data\" thành chữ thường \n",
    "data['movie_title'] = data['movie_title'].str.lower()"
   ]
  },
  {
   "cell_type": "code",
   "execution_count": 11,
   "id": "5cfdb000",
   "metadata": {},
   "outputs": [
    {
     "data": {
      "text/plain": [
       "\"pirates of the caribbean: at world's end\\xa0\""
      ]
     },
     "execution_count": 11,
     "metadata": {},
     "output_type": "execute_result"
    }
   ],
   "source": [
    "data['movie_title'][1]"
   ]
  },
  {
   "cell_type": "code",
   "execution_count": 12,
   "id": "e5898fd2",
   "metadata": {},
   "outputs": [],
   "source": [
    "# Cắt bớt ký tự cuối cùng của mỗi chuỗi trong cột \"movie_title\"\n",
    "data['movie_title'] = data['movie_title'].apply(lambda x: x[:-1])"
   ]
  },
  {
   "cell_type": "code",
   "execution_count": 13,
   "id": "14b87db1",
   "metadata": {},
   "outputs": [],
   "source": [
    "# Loại bỏ bản sao dựa trên cột 'movie_title'\n",
    "data = data.drop_duplicates(subset='movie_title', keep='first')"
   ]
  },
  {
   "cell_type": "code",
   "execution_count": 14,
   "id": "2e5c9aa1",
   "metadata": {},
   "outputs": [],
   "source": [
    "# Lưu dữ liệu đã xử lý vào tệp 'data.csv'\n",
    "data.to_csv('data.csv', index=False)"
   ]
  },
  {
   "cell_type": "markdown",
   "id": "962fa53d",
   "metadata": {},
   "source": [
    "# Xây Dựng Mô Hình"
   ]
  },
  {
   "cell_type": "code",
   "execution_count": 16,
   "id": "9ec64c92",
   "metadata": {},
   "outputs": [],
   "source": [
    "import pandas as pd\n",
    "from sklearn.feature_extraction.text import TfidfVectorizer\n",
    "from sklearn.ensemble import RandomForestClassifier\n",
    "from sklearn.model_selection import StratifiedShuffleSplit\n",
    "from sklearn.metrics import accuracy_score\n",
    "from joblib import dump\n",
    "from textaugment import EDA\n",
    "import nltk"
   ]
  },
  {
   "cell_type": "code",
   "execution_count": 17,
   "id": "fcbc7f49",
   "metadata": {},
   "outputs": [
    {
     "name": "stderr",
     "output_type": "stream",
     "text": [
      "[nltk_data] Downloading package wordnet to\n",
      "[nltk_data]     C:\\Users\\AVITA\\AppData\\Roaming\\nltk_data...\n",
      "[nltk_data]   Package wordnet is already up-to-date!\n"
     ]
    },
    {
     "data": {
      "text/plain": [
       "True"
      ]
     },
     "execution_count": 17,
     "metadata": {},
     "output_type": "execute_result"
    }
   ],
   "source": [
    "nltk.download('wordnet')"
   ]
  },
  {
   "cell_type": "code",
   "execution_count": 18,
   "id": "133a3544",
   "metadata": {},
   "outputs": [],
   "source": [
    "# Đọc dữ liệu từ file CSV đã được xử lý\n",
    "data = pd.read_csv('data.csv')"
   ]
  },
  {
   "cell_type": "code",
   "execution_count": 19,
   "id": "8be14e1f",
   "metadata": {},
   "outputs": [],
   "source": [
    "# Kết hợp các cột để tạo một trường văn bản duy nhất\n",
    "data['combined_features'] = data['director_name'] + ' ' + data['actor_1_name'] + ' ' + data['actor_2_name'] + ' ' + data['actor_3_name']"
   ]
  },
  {
   "cell_type": "code",
   "execution_count": 20,
   "id": "2b83803c",
   "metadata": {},
   "outputs": [],
   "source": [
    "# Gán giá trị cho nhãn\n",
    "X = data['combined_features']\n",
    "y = data['genres']"
   ]
  },
  {
   "cell_type": "code",
   "execution_count": 21,
   "id": "f3fdf4ef",
   "metadata": {},
   "outputs": [
    {
     "name": "stdout",
     "output_type": "stream",
     "text": [
      "genres\n",
      "Drama                                                    233\n",
      "Comedy                                                   205\n",
      "Comedy Drama                                             189\n",
      "Comedy Drama Romance                                     185\n",
      "Comedy Romance                                           157\n",
      "                                                        ... \n",
      "Action Adventure Comedy Crime Family Romance Thriller      1\n",
      "Biography Drama Family                                     1\n",
      "Adventure Animation Family Western                         1\n",
      "Action Biography Drama History Romance Western             1\n",
      "Comedy Crime Horror                                        1\n",
      "Name: count, Length: 914, dtype: int64\n"
     ]
    }
   ],
   "source": [
    "# Xác minh số lượng mẫu trong biến y\n",
    "class_counts = y.value_counts()\n",
    "print(class_counts)"
   ]
  },
  {
   "cell_type": "code",
   "execution_count": 22,
   "id": "4003797c",
   "metadata": {},
   "outputs": [],
   "source": [
    "# Loại bỏ lớp có ít hơn 2 mẫu (nếu có)\n",
    "y_filtered = y[y.isin(class_counts[class_counts >= 2].index)]\n",
    "X_filtered = X[y.isin(class_counts[class_counts >= 2].index)]"
   ]
  },
  {
   "cell_type": "code",
   "execution_count": 23,
   "id": "bd1977af",
   "metadata": {},
   "outputs": [],
   "source": [
    "# Tăng cường dữ liệu sử dụng EDA\n",
    "eda = EDA()\n",
    "\n",
    "X_augmented = []\n",
    "y_augmented = []"
   ]
  },
  {
   "cell_type": "code",
   "execution_count": 24,
   "id": "8f8f5832",
   "metadata": {},
   "outputs": [],
   "source": [
    " # Thực hiện tăng cường dữ liệu: thay thế từ bằng từ đồng nghĩa\n",
    "for i in range(X_filtered.shape[0]):\n",
    "    sentence = X_filtered.iloc[i]\n",
    "    augmented_sentence = eda.synonym_replacement(sentence)\n",
    "    X_augmented.append(augmented_sentence)\n",
    "    y_augmented.append(y_filtered.iloc[i])"
   ]
  },
  {
   "cell_type": "code",
   "execution_count": 25,
   "id": "261e32be",
   "metadata": {},
   "outputs": [],
   "source": [
    "# Kết hợp dữ liệu mới với dữ liệu gốc\n",
    "X_combined = pd.concat([X_filtered, pd.Series(X_augmented)], ignore_index=True)\n",
    "y_combined = pd.concat([y_filtered, pd.Series(y_augmented)], ignore_index=True)"
   ]
  },
  {
   "cell_type": "code",
   "execution_count": 26,
   "id": "c9a1bb70",
   "metadata": {},
   "outputs": [],
   "source": [
    "# Sử dụng TfidfVectorizer để chuyển đổi văn bản thành ma trận tf-idf\n",
    "vectorizer = TfidfVectorizer(use_idf=True, lowercase=True, strip_accents='ascii',\n",
    "                             ngram_range=(1, 2), max_df=0.8, min_df=2)"
   ]
  },
  {
   "cell_type": "code",
   "execution_count": 27,
   "id": "3d9d7c9a",
   "metadata": {},
   "outputs": [],
   "source": [
    "# Chuyển đổi dữ liệu văn bản thành ma trận tf-idf\n",
    "X_combined_tfidf = vectorizer.fit_transform(X_combined)"
   ]
  },
  {
   "cell_type": "code",
   "execution_count": 28,
   "id": "6b45f6d5",
   "metadata": {},
   "outputs": [],
   "source": [
    "# Chia dữ liệu thành tập huấn luyện và tập kiểm tra sử dụng StratifiedShuffleSplit\n",
    "sss = StratifiedShuffleSplit(n_splits=1, test_size=0.2, random_state=42)\n",
    "for train_index, test_index in sss.split(X_combined_tfidf, y_combined):\n",
    "    X_train, X_test = X_combined_tfidf[train_index], X_combined_tfidf[test_index]\n",
    "    y_train, y_test = y_combined.iloc[train_index], y_combined.iloc[test_index]"
   ]
  },
  {
   "cell_type": "code",
   "execution_count": 29,
   "id": "b064f84b",
   "metadata": {},
   "outputs": [
    {
     "data": {
      "text/html": [
       "<style>#sk-container-id-1 {color: black;}#sk-container-id-1 pre{padding: 0;}#sk-container-id-1 div.sk-toggleable {background-color: white;}#sk-container-id-1 label.sk-toggleable__label {cursor: pointer;display: block;width: 100%;margin-bottom: 0;padding: 0.3em;box-sizing: border-box;text-align: center;}#sk-container-id-1 label.sk-toggleable__label-arrow:before {content: \"▸\";float: left;margin-right: 0.25em;color: #696969;}#sk-container-id-1 label.sk-toggleable__label-arrow:hover:before {color: black;}#sk-container-id-1 div.sk-estimator:hover label.sk-toggleable__label-arrow:before {color: black;}#sk-container-id-1 div.sk-toggleable__content {max-height: 0;max-width: 0;overflow: hidden;text-align: left;background-color: #f0f8ff;}#sk-container-id-1 div.sk-toggleable__content pre {margin: 0.2em;color: black;border-radius: 0.25em;background-color: #f0f8ff;}#sk-container-id-1 input.sk-toggleable__control:checked~div.sk-toggleable__content {max-height: 200px;max-width: 100%;overflow: auto;}#sk-container-id-1 input.sk-toggleable__control:checked~label.sk-toggleable__label-arrow:before {content: \"▾\";}#sk-container-id-1 div.sk-estimator input.sk-toggleable__control:checked~label.sk-toggleable__label {background-color: #d4ebff;}#sk-container-id-1 div.sk-label input.sk-toggleable__control:checked~label.sk-toggleable__label {background-color: #d4ebff;}#sk-container-id-1 input.sk-hidden--visually {border: 0;clip: rect(1px 1px 1px 1px);clip: rect(1px, 1px, 1px, 1px);height: 1px;margin: -1px;overflow: hidden;padding: 0;position: absolute;width: 1px;}#sk-container-id-1 div.sk-estimator {font-family: monospace;background-color: #f0f8ff;border: 1px dotted black;border-radius: 0.25em;box-sizing: border-box;margin-bottom: 0.5em;}#sk-container-id-1 div.sk-estimator:hover {background-color: #d4ebff;}#sk-container-id-1 div.sk-parallel-item::after {content: \"\";width: 100%;border-bottom: 1px solid gray;flex-grow: 1;}#sk-container-id-1 div.sk-label:hover label.sk-toggleable__label {background-color: #d4ebff;}#sk-container-id-1 div.sk-serial::before {content: \"\";position: absolute;border-left: 1px solid gray;box-sizing: border-box;top: 0;bottom: 0;left: 50%;z-index: 0;}#sk-container-id-1 div.sk-serial {display: flex;flex-direction: column;align-items: center;background-color: white;padding-right: 0.2em;padding-left: 0.2em;position: relative;}#sk-container-id-1 div.sk-item {position: relative;z-index: 1;}#sk-container-id-1 div.sk-parallel {display: flex;align-items: stretch;justify-content: center;background-color: white;position: relative;}#sk-container-id-1 div.sk-item::before, #sk-container-id-1 div.sk-parallel-item::before {content: \"\";position: absolute;border-left: 1px solid gray;box-sizing: border-box;top: 0;bottom: 0;left: 50%;z-index: -1;}#sk-container-id-1 div.sk-parallel-item {display: flex;flex-direction: column;z-index: 1;position: relative;background-color: white;}#sk-container-id-1 div.sk-parallel-item:first-child::after {align-self: flex-end;width: 50%;}#sk-container-id-1 div.sk-parallel-item:last-child::after {align-self: flex-start;width: 50%;}#sk-container-id-1 div.sk-parallel-item:only-child::after {width: 0;}#sk-container-id-1 div.sk-dashed-wrapped {border: 1px dashed gray;margin: 0 0.4em 0.5em 0.4em;box-sizing: border-box;padding-bottom: 0.4em;background-color: white;}#sk-container-id-1 div.sk-label label {font-family: monospace;font-weight: bold;display: inline-block;line-height: 1.2em;}#sk-container-id-1 div.sk-label-container {text-align: center;}#sk-container-id-1 div.sk-container {/* jupyter's `normalize.less` sets `[hidden] { display: none; }` but bootstrap.min.css set `[hidden] { display: none !important; }` so we also need the `!important` here to be able to override the default hidden behavior on the sphinx rendered scikit-learn.org. See: https://github.com/scikit-learn/scikit-learn/issues/21755 */display: inline-block !important;position: relative;}#sk-container-id-1 div.sk-text-repr-fallback {display: none;}</style><div id=\"sk-container-id-1\" class=\"sk-top-container\"><div class=\"sk-text-repr-fallback\"><pre>RandomForestClassifier(random_state=42)</pre><b>In a Jupyter environment, please rerun this cell to show the HTML representation or trust the notebook. <br />On GitHub, the HTML representation is unable to render, please try loading this page with nbviewer.org.</b></div><div class=\"sk-container\" hidden><div class=\"sk-item\"><div class=\"sk-estimator sk-toggleable\"><input class=\"sk-toggleable__control sk-hidden--visually\" id=\"sk-estimator-id-1\" type=\"checkbox\" checked><label for=\"sk-estimator-id-1\" class=\"sk-toggleable__label sk-toggleable__label-arrow\">RandomForestClassifier</label><div class=\"sk-toggleable__content\"><pre>RandomForestClassifier(random_state=42)</pre></div></div></div></div></div>"
      ],
      "text/plain": [
       "RandomForestClassifier(random_state=42)"
      ]
     },
     "execution_count": 29,
     "metadata": {},
     "output_type": "execute_result"
    }
   ],
   "source": [
    "# Sử dụng RandomForestClassifier\n",
    "clf = RandomForestClassifier(n_estimators=100, random_state=42)\n",
    "clf.fit(X_train, y_train)"
   ]
  },
  {
   "cell_type": "code",
   "execution_count": 30,
   "id": "31e0ee89",
   "metadata": {},
   "outputs": [
    {
     "name": "stdout",
     "output_type": "stream",
     "text": [
      "Accuracy on Test Set: 82.99%\n"
     ]
    }
   ],
   "source": [
    "# Đánh giá độ chính xác trên tập kiểm tra\n",
    "accuracy_test = accuracy_score(y_test, clf.predict(X_test)) * 100\n",
    "print(f\"Accuracy on Test Set: {accuracy_test:.2f}%\")"
   ]
  },
  {
   "cell_type": "code",
   "execution_count": 31,
   "id": "583cda67",
   "metadata": {},
   "outputs": [
    {
     "name": "stdout",
     "output_type": "stream",
     "text": [
      "Model và Vectorizer đã được lưu thành công.\n"
     ]
    }
   ],
   "source": [
    "# Lưu mô hình vào tệp 'nlp_model.joblib'\n",
    "filename = 'nlp_model.joblib'\n",
    "dump(clf, filename)\n",
    "\n",
    "# Lưu vectorizer để sử dụng trong quá trình dự đoán trên dữ liệu mới\n",
    "vectorizer_filename = 'tfidf_vectorizer.joblib'\n",
    "dump(vectorizer, vectorizer_filename)\n",
    "\n",
    "print(\"Model và Vectorizer đã được lưu thành công.\")"
   ]
  },
  {
   "cell_type": "code",
   "execution_count": null,
   "id": "1007c710",
   "metadata": {},
   "outputs": [],
   "source": []
  }
 ],
 "metadata": {
  "kernelspec": {
   "display_name": "Python 3 (ipykernel)",
   "language": "python",
   "name": "python3"
  },
  "language_info": {
   "codemirror_mode": {
    "name": "ipython",
    "version": 3
   },
   "file_extension": ".py",
   "mimetype": "text/x-python",
   "name": "python",
   "nbconvert_exporter": "python",
   "pygments_lexer": "ipython3",
   "version": "3.11.5"
  }
 },
 "nbformat": 4,
 "nbformat_minor": 5
}
